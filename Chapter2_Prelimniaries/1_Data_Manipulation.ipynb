{
  "cells": [
    {
      "cell_type": "code",
      "execution_count": 1,
      "metadata": {
        "collapsed": true,
        "pycharm": {
          "is_executing": false
        }
      },
      "outputs": [],
      "source": "from mxnet import nd"
    },
    {
      "cell_type": "code",
      "execution_count": 2,
      "outputs": [
        {
          "name": "stdout",
          "text": [
            "\n[ 0.  1.  2.  3.  4.  5.  6.  7.  8.  9. 10. 11.]\n\u003cNDArray 12 @cpu(0)\u003e\n(12,)\n12\n"
          ],
          "output_type": "stream"
        }
      ],
      "source": "\u0027\u0027\u0027\n    1. Getting Started\n\u0027\u0027\u0027\n# Create a vector with 12 consecutive integers\nx \u003d nd.arange(12)\nprint(x)\nprint(x.shape)\nprint(x.size)",
      "metadata": {
        "pycharm": {
          "metadata": false,
          "name": "#%% \n",
          "is_executing": false
        }
      }
    },
    {
      "cell_type": "code",
      "execution_count": 5,
      "outputs": [
        {
          "name": "stdout",
          "text": [
            "\n[[ 0.  1.  2.  3.]\n [ 4.  5.  6.  7.]\n [ 8.  9. 10. 11.]]\n\u003cNDArray 3x4 @cpu(0)\u003e\n\n[[ 0.  1.  2.]\n [ 3.  4.  5.]\n [ 6.  7.  8.]\n [ 9. 10. 11.]]\n\u003cNDArray 4x3 @cpu(0)\u003e\n"
          ],
          "output_type": "stream"
        }
      ],
      "source": "# Use the reshape function to change the shape of one array that contains the same number of elements\nx \u003d x.reshape(3, 4)\nprint(x)\n\n# NDArray can automatically work out one dimension given the other using -1\nx \u003d x.reshape(4, -1)\nprint(x)",
      "metadata": {
        "pycharm": {
          "metadata": false,
          "name": "#%%\n",
          "is_executing": false
        }
      }
    },
    {
      "cell_type": "code",
      "execution_count": 18,
      "outputs": [
        {
          "name": "stdout",
          "text": [
            "Empty:  \n[[0. 0. 0. 0.]\n [0. 0. 0. 0.]\n [0. 0. 0. 0.]]\n\u003cNDArray 3x4 @cpu(0)\u003e\nZeros:  \n[[0. 0. 0. 0.]\n [0. 0. 0. 0.]\n [0. 0. 0. 0.]]\n\u003cNDArray 3x4 @cpu(0)\u003e\nOnes:  \n[[1. 1. 1. 1.]\n [1. 1. 1. 1.]\n [1. 1. 1. 1.]]\n\u003cNDArray 3x4 @cpu(0)\u003e\nSpecify the value of each element:  \n[[1. 2. 3. 4.]\n [4. 3. 2. 1.]]\n\u003cNDArray 2x4 @cpu(0)\u003e\nNormal distribution:  \n[[ 1.1630787   0.4838046   0.29956347  0.15302546]\n [-1.1688148   1.5580711  -0.5459446  -2.3556297 ]\n [ 0.5414402   2.6785066   1.2546344  -0.54877394]]\n\u003cNDArray 3x4 @cpu(0)\u003e\n"
          ],
          "output_type": "stream"
        }
      ],
      "source": "#The empty method just grabs some memory and hands us back a matrix without setting the values of any of its entries\nprint(\"Empty: \", nd.empty((3, 4)))\n\nprint(\"Zeros: \", nd.zeros((3, 4)))\n\nprint(\"Ones: \", nd.ones((3, 4)))\n\ny \u003d nd.array([[1,2,3,4], [4,3,2,1]])\nprint(\"Specify the value of each element: \", y)\n\n# Sampled in a normal distribution with zero mean and unit variance\nprint(\"Normal distribution: \", nd.random.normal(0, 1, shape\u003d(3, 4)))\n",
      "metadata": {
        "pycharm": {
          "metadata": false,
          "name": "#%%\n",
          "is_executing": false
        }
      }
    },
    {
      "cell_type": "code",
      "execution_count": 23,
      "outputs": [
        {
          "name": "stdout",
          "text": [
            "x \u003d \n[1. 2. 4. 8.]\n\u003cNDArray 4 @cpu(0)\u003e\ny \u003d \n[2. 2. 2. 2.]\n\u003cNDArray 4 @cpu(0)\u003e\nx + y \n[ 3.  4.  6. 10.]\n\u003cNDArray 4 @cpu(0)\u003e\nx - y \n[-1.  0.  2.  6.]\n\u003cNDArray 4 @cpu(0)\u003e\nx * y \n[ 2.  4.  8. 16.]\n\u003cNDArray 4 @cpu(0)\u003e\nx / y \n[0.5 1.  2.  4. ]\n\u003cNDArray 4 @cpu(0)\u003e\nExponentiation:  \n[2.7182817e+00 7.3890562e+00 5.4598148e+01 2.9809580e+03]\n\u003cNDArray 4 @cpu(0)\u003e\n"
          ],
          "output_type": "stream"
        }
      ],
      "source": "\u0027\u0027\u0027\n    2. Operations\n\u0027\u0027\u0027\n# Element-wise operations\nx \u003d nd.array([1, 2, 4, 8])\ny \u003d nd.ones_like(x) * 2\n\nprint(\u0027x \u003d\u0027, x)\nprint(\u0027y \u003d\u0027, y)\nprint(\u0027x + y\u0027, x + y)\nprint(\u0027x - y\u0027, x - y)\nprint(\u0027x * y\u0027, x * y)\nprint(\u0027x / y\u0027, x / y)\n\nprint(\"Exponentiation: \", x.exp())\n",
      "metadata": {
        "pycharm": {
          "metadata": false,
          "name": "#%% \n",
          "is_executing": false
        }
      }
    },
    {
      "cell_type": "code",
      "execution_count": 42,
      "outputs": [
        {
          "name": "stdout",
          "text": [
            "nd.dot:  \n[[ 19.  20.  10.]\n [ 59.  60.  50.]\n [ 99. 100.  90.]]\n\u003cNDArray 3x3 @cpu(0)\u003e\nConcat dim0: \n[[ 0.  1.  2.  3.]\n [ 4.  5.  6.  7.]\n [ 8.  9. 10. 11.]\n [ 2.  1.  3.  4.]\n [ 1.  2.  3.  4.]\n [ 4.  3.  2.  1.]]\n\u003cNDArray 6x4 @cpu(0)\u003e\nConcat dim1: \n[[ 0.  1.  2.  3.  2.  1.  3.  4.]\n [ 4.  5.  6.  7.  1.  2.  3.  4.]\n [ 8.  9. 10. 11.  4.  3.  2.  1.]]\n\u003cNDArray 3x8 @cpu(0)\u003e\nEqual:  \n[[0. 1. 0. 0.]\n [0. 0. 0. 0.]\n [0. 0. 0. 0.]]\n\u003cNDArray 3x4 @cpu(0)\u003e\nLarger than:  \n[[0. 0. 0. 0.]\n [1. 1. 1. 1.]\n [1. 1. 1. 1.]]\n\u003cNDArray 3x4 @cpu(0)\u003e\nSum: \n[66.]\n\u003cNDArray 1 @cpu(0)\u003e\nasscalar:  22.494442\n"
          ],
          "output_type": "stream"
        }
      ],
      "source": "# Inner product of 2 matrices\nx \u003d nd.arange(12).reshape((3, 4))\ny \u003d nd.array([[2, 1, 3, 4], [1, 2, 3, 4], [4, 3, 2, 1]])\nprint(\"nd.dot: \", nd.dot(x, y.T))\n\n# Merge 2 matrices\nprint(\"Concat dim0:\", nd.concat(x, y, dim \u003d 0))\nprint(\"Concat dim1:\", nd.concat(x, y, dim \u003d 1))\n\n# Support logical statements\nprint(\"Equal: \", x \u003d\u003d y)\nprint(\"Larger than: \", x \u003e y)\n\n# Sum over all elements\nprint(\"Sum:\", x.sum())\n\n# Transform the result into a scalar in python using hte asscalar function\nprint(\"asscalar: \", x.norm().asscalar())",
      "metadata": {
        "pycharm": {
          "metadata": false,
          "name": "#%%\n",
          "is_executing": false
        }
      }
    },
    {
      "cell_type": "code",
      "execution_count": 35,
      "outputs": [
        {
          "name": "stdout",
          "text": [
            "a \u003d  \n[[0.]\n [1.]\n [2.]]\n\u003cNDArray 3x1 @cpu(0)\u003e\nb \u003d  \n[[0. 1.]]\n\u003cNDArray 1x2 @cpu(0)\u003e\na + b \u003d  \n[[0. 1.]\n [1. 2.]\n [2. 3.]]\n\u003cNDArray 3x2 @cpu(0)\u003e\n"
          ],
          "output_type": "stream"
        }
      ],
      "source": "\u0027\u0027\u0027\n    3. Broadcast Mechanism\n\u0027\u0027\u0027\n# If 2 matrices shape are different from each other. Analogous to numpy:\n# Copy the elements appropriately so that 2 NDArrays have the same shape, and then carry out operations by element.\na \u003d nd.arange(3).reshape((3, 1))\nb \u003d nd.arange(2).reshape((1, 2))\nprint(\"a \u003d \", a)\nprint(\"b \u003d \", b)\n\nprint(\"a + b \u003d \", a + b)",
      "metadata": {
        "pycharm": {
          "metadata": false,
          "name": "#%% \n",
          "is_executing": false
        }
      }
    },
    {
      "cell_type": "code",
      "execution_count": 41,
      "outputs": [
        {
          "name": "stdout",
          "text": [
            "x[1:3] \n[[ 4.  5.  6.  7.]\n [ 8.  9. 10. 11.]]\n\u003cNDArray 2x4 @cpu(0)\u003e\nx[1,2] \n[6.]\n\u003cNDArray 1 @cpu(0)\u003e\nx \u003d  \n[[12. 12. 12. 12.]\n [12. 12. 12. 12.]\n [ 8.  9. 10. 11.]]\n\u003cNDArray 3x4 @cpu(0)\u003e\n"
          ],
          "output_type": "stream"
        }
      ],
      "source": "\u0027\u0027\u0027\n    4. Indexing and Slicing\n\u0027\u0027\u0027\nx \u003d nd.arange(12).reshape((3, 4))\nprint(\"x[1:3]\", x[1:3])\nprint(\"x[1,2]\", x[1,2])\n\nx[0:2, :] \u003d 12\nprint(\"x \u003d \", x)",
      "metadata": {
        "pycharm": {
          "metadata": false,
          "name": "#%% \n",
          "is_executing": false
        }
      }
    },
    {
      "cell_type": "code",
      "execution_count": 44,
      "outputs": [
        {
          "data": {
            "text/plain": "False"
          },
          "metadata": {},
          "output_type": "execute_result",
          "execution_count": 44
        }
      ],
      "source": "\u0027\u0027\u0027\n    5. Saving Memory\n\u0027\u0027\u0027\n# Python\u0027s id() function, which gives us the exact address of the referenced object in memory\nbefore \u003d id(y)\ny \u003d x + y\nid(y) \u003d\u003d before",
      "metadata": {
        "pycharm": {
          "metadata": false,
          "name": "#%% \n",
          "is_executing": false
        }
      }
    },
    {
      "cell_type": "code",
      "execution_count": 46,
      "outputs": [
        {
          "name": "stdout",
          "text": [
            "id(z): 4716330848\nid(z): 4716330400\n"
          ],
          "output_type": "stream"
        }
      ],
      "source": "# Performing in-place operations in MXNet is easy, but it still allocate a temporary buffer\nz \u003d y.zeros_like()\nprint(\u0027id(z):\u0027, id(z))\nz[:] \u003d x + y\nprint(\u0027id(z):\u0027, id(z))\n",
      "metadata": {
        "pycharm": {
          "metadata": false,
          "name": "#%%\n",
          "is_executing": false
        }
      }
    },
    {
      "cell_type": "code",
      "execution_count": 47,
      "outputs": [
        {
          "data": {
            "text/plain": "True"
          },
          "metadata": {},
          "output_type": "execute_result",
          "execution_count": 47
        }
      ],
      "source": "# To avoid temporary buffer, directly invoke the underlying ndarray operation\nbefore \u003d id(z)\nnd.elemwise_add(x, y, out\u003dz)\nid(z) \u003d\u003d before",
      "metadata": {
        "pycharm": {
          "metadata": false,
          "name": "#%%\n",
          "is_executing": false
        }
      }
    },
    {
      "cell_type": "code",
      "execution_count": 49,
      "outputs": [
        {
          "data": {
            "text/plain": "True"
          },
          "metadata": {},
          "output_type": "execute_result",
          "execution_count": 49
        }
      ],
      "source": "#If the value of x is not reused in subsequent computations, we can also use x[:] \u003d x + y or x +\u003d y to reduce the memory overhead of the operation.\nbefore \u003d id(x)\nx +\u003d y\nid(x) \u003d\u003d before\n",
      "metadata": {
        "pycharm": {
          "metadata": false,
          "name": "#%%\n",
          "is_executing": false
        }
      }
    },
    {
      "cell_type": "code",
      "execution_count": 50,
      "outputs": [
        {
          "name": "stdout",
          "text": [
            "\u003cclass \u0027numpy.ndarray\u0027\u003e\n\u003cclass \u0027mxnet.ndarray.ndarray.NDArray\u0027\u003e\n"
          ],
          "output_type": "stream"
        }
      ],
      "source": "\u0027\u0027\u0027\n     6. Mutual Transformation of NDArray and NumPy\n\u0027\u0027\u0027\n# The converted arrays do not share memory\na \u003d x.asnumpy()\nprint(type(a))\nb \u003d nd.array(a)\nprint(type(b))",
      "metadata": {
        "pycharm": {
          "metadata": false,
          "name": "#%%\n",
          "is_executing": false
        }
      }
    },
    {
      "cell_type": "code",
      "execution_count": null,
      "outputs": [],
      "source": "\n",
      "metadata": {
        "pycharm": {
          "metadata": false,
          "name": "#%%\n"
        }
      }
    }
  ],
  "metadata": {
    "language_info": {
      "codemirror_mode": {
        "name": "ipython",
        "version": 2
      },
      "file_extension": ".py",
      "mimetype": "text/x-python",
      "name": "python",
      "nbconvert_exporter": "python",
      "pygments_lexer": "ipython2",
      "version": "2.7.6"
    },
    "kernelspec": {
      "name": "python3",
      "language": "python",
      "display_name": "Python 3"
    }
  },
  "nbformat": 4,
  "nbformat_minor": 0
}